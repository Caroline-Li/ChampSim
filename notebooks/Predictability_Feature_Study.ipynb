{
 "cells": [
  {
   "cell_type": "markdown",
   "id": "ba13bead",
   "metadata": {},
   "source": [
    "# Predictability Feature Study\n",
    "\n",
    "We are interested in predicting k, which is defined as the number of prefetches issued before a demand request. A sequence of k values is on a per cacheline basis. To predict k, we are interested in studying the relationship between k and features such as Program Counter and cacheline address. These features may account for \n",
    "\n",
    "### Predictability Metrics\n",
    "\n",
    "**k distribution**: The distribution of all values of k per benchmark\n",
    "\n",
    "**Sequiter Study**: Using the compression tool Sequiter to find patterns in the distribution of k on a per cacheline basis\n",
    "\n",
    "**Uniqueness Study**: The distribution of the percent of unique values of k on a per cacheline basis"
   ]
  }
 ],
 "metadata": {
  "kernelspec": {
   "display_name": "Python 3 (ipykernel)",
   "language": "python",
   "name": "python3"
  },
  "language_info": {
   "codemirror_mode": {
    "name": "ipython",
    "version": 3
   },
   "file_extension": ".py",
   "mimetype": "text/x-python",
   "name": "python",
   "nbconvert_exporter": "python",
   "pygments_lexer": "ipython3",
   "version": "3.10.6"
  }
 },
 "nbformat": 4,
 "nbformat_minor": 5
}
