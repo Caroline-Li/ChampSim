{
 "cells": [
  {
   "cell_type": "markdown",
   "id": "a858069c",
   "metadata": {},
   "source": [
    "# Timeliness Study\n",
    "\n",
    "We are interested in knowing the timeliness of the last prefetch issued before a demand request. Timeliness is defined as the number of clock cycles between the issued prefetch and the demand request."
   ]
  },
  {
   "cell_type": "code",
   "execution_count": null,
   "id": "e07b550c",
   "metadata": {},
   "outputs": [],
   "source": [
    "import sys, re\n",
    "import matplotlib as mpl\n",
    "import numpy as np\n",
    "import os\n",
    "import subprocess\n",
    "import copy\n",
    "mpl.rcParams['font.size'] = 14\n",
    "import matplotlib.pyplot as plt\n",
    "import matplotlib.gridspec as gridspec\n",
    "import argparse\n",
    "\n",
    "NROWS=5\n",
    "NCOLS=5"
   ]
  },
  {
   "cell_type": "code",
   "execution_count": null,
   "id": "28634402",
   "metadata": {},
   "outputs": [],
   "source": [
    "def get_experiment_traces(experiment, trace_list):\n",
    "    for trace in trace_list:\n",
    "    trace = trace[:-1]\n",
    "    traces.append(trace)\n",
    "    experiment_trace = '../current_output/'+experiment+'/'+trace+'.txt'\n",
    "    experiment_trace_files.append(experiment_trace)\n",
    "    return (experiment_trace_files, traces)"
   ]
  },
  {
   "cell_type": "code",
   "execution_count": null,
   "id": "c265f467",
   "metadata": {},
   "outputs": [],
   "source": [
    "def parse_timeliness(trace):\n",
    "    time_distr = []\n",
    "    for line in open(trace, 'r'):\n",
    "        if (re.match(\"cacheline:\", line)):\n",
    "            split = re.split(',| ', line.rstrip())\n",
    "            split = [i.strip() for i in split if i.strip()]\n",
    "            if (len(split) > 3):\n",
    "                time_list = list(map(int, split[3:]))\n",
    "                time_distr.extend(time_list)\n",
    "                \n",
    "    return time_distr"
   ]
  },
  {
   "cell_type": "code",
   "execution_count": null,
   "id": "3061460b",
   "metadata": {},
   "outputs": [],
   "source": [
    "def graph_time_distr(experiment_trace_files, traces):\n",
    "    i = 0\n",
    "    for r in range(NROWS):\n",
    "        for c in range(NCOLS):\n",
    "            ax = fig.add_subplot(spec[r, c])\n",
    "            ax.set_ylabel('Frequency')\n",
    "            ax.set_xlabel('time in clock cycles')\n",
    "            if (i < len(traces)):\n",
    "                ax.set_title(f'{traces[i]} timeliness distribution')\n",
    "            axs.append(ax)\n",
    "            i += 1\n",
    "    i = 0\n",
    "    for trace in experiment_trace_files:\n",
    "        print(trace)\n",
    "        time_distr = parse_timeliness(trace)\n",
    "        bins = 10\n",
    "        if (i < len(traces) and len(time_distr) > 0):\n",
    "            bin_arr = np.linspace(min(time_distr), max(time_distr), bins, endpoint=True)\n",
    "            axs[i].hist(time_distr, bins=bin_arr, rwidth=0.8)\n",
    "            axs[i].autoscale()\n",
    "        i += 1"
   ]
  },
  {
   "cell_type": "code",
   "execution_count": null,
   "id": "178cb7fa",
   "metadata": {},
   "outputs": [],
   "source": [
    "# Harmony with Best Offset Prefetch Interval Use\n",
    "# get experiment trace files\n",
    "experiment = 'experiment_tracer_hfd_bp_updated_k_list'\n",
    "trace_list = open('sim_list/traces.txt', 'r')\n",
    "\n",
    "(experiment_trace_files, traces) = get_experiment_traces(experiment, trace_list)"
   ]
  },
  {
   "cell_type": "code",
   "execution_count": null,
   "id": "829a158b",
   "metadata": {},
   "outputs": [],
   "source": []
  }
 ],
 "metadata": {
  "kernelspec": {
   "display_name": "Python 3 (ipykernel)",
   "language": "python",
   "name": "python3"
  },
  "language_info": {
   "codemirror_mode": {
    "name": "ipython",
    "version": 3
   },
   "file_extension": ".py",
   "mimetype": "text/x-python",
   "name": "python",
   "nbconvert_exporter": "python",
   "pygments_lexer": "ipython3",
   "version": "3.10.6"
  }
 },
 "nbformat": 4,
 "nbformat_minor": 5
}
